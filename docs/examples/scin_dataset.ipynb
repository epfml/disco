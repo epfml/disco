{
 "cells": [
  {
   "cell_type": "markdown",
   "metadata": {},
   "source": [
    "## Formatting the SCIN dataset for DISCO\n",
    "\n",
    "This notebook shows how to create a sample dataset ready to be used with DISCO. The resulting sample dataset is available [here](https://storage.googleapis.com/deai-313515.appspot.com/scin_sample.zip). The full SCIN Dataset is available at https://github.com/google-research-datasets/scin and requires using the google cloud CLI."
   ]
  },
  {
   "cell_type": "code",
   "execution_count": null,
   "metadata": {},
   "outputs": [],
   "source": [
    "# Install the gcloud CLI: https://cloud.google.com/sdk/docs/install-sdk\n",
    "\n",
    "# Init the gcloud CLI\n",
    "!gcloud init"
   ]
  },
  {
   "cell_type": "code",
   "execution_count": null,
   "metadata": {},
   "outputs": [],
   "source": [
    "# Install the dependencies\n",
    "%pip install pandas tqdm"
   ]
  },
  {
   "cell_type": "code",
   "execution_count": 14,
   "metadata": {},
   "outputs": [],
   "source": [
    "import os\n",
    "import shutil\n",
    "import pandas as pd\n",
    "from tqdm import tqdm\n"
   ]
  },
  {
   "cell_type": "markdown",
   "metadata": {},
   "source": [
    "### Option 1: Use the Google Storage API\n",
    "\n",
    "We are only going to use a subset of the dataset so rather than downloading the dataset locally, we can also use the google cloud storage API to subset the dataset and only download those images locally. Be aware that downloading images through the python package API is much slower. Downloading 1.5k images takes ~20min while downloading 10k images with the gsutil command takes 5min"
   ]
  },
  {
   "cell_type": "code",
   "execution_count": null,
   "metadata": {},
   "outputs": [],
   "source": [
    "!gcloud auth application-default login"
   ]
  },
  {
   "cell_type": "code",
   "execution_count": null,
   "metadata": {},
   "outputs": [],
   "source": [
    "%pip install google-cloud-storage"
   ]
  },
  {
   "cell_type": "code",
   "execution_count": 2,
   "metadata": {},
   "outputs": [],
   "source": [
    "# here we will NOT use the Storage API but instead download the dataset locally\n",
    "USE_STORAGE_API = False "
   ]
  },
  {
   "cell_type": "code",
   "execution_count": 3,
   "metadata": {},
   "outputs": [],
   "source": [
    "if USE_STORAGE_API:\n",
    "    from google.cloud import storage\n",
    "    # Google Cloud constants\n",
    "    gcs_storage_client = storage.Client('dx-scin-public')\n",
    "    # GCS bucket with data to read\n",
    "    gcs_bucket = gcs_storage_client.bucket('dx-scin-public-data')"
   ]
  },
  {
   "cell_type": "markdown",
   "metadata": {},
   "source": [
    "### Option 2: download dataset locally\n",
    "\n",
    "The dataset is about 11GiB but is much faster to download than using the python storage API."
   ]
  },
  {
   "cell_type": "code",
   "execution_count": 101,
   "metadata": {},
   "outputs": [],
   "source": [
    "# Download the dataset from the cloud storage in local\n",
    "# This command will download the dataset in a local `dataset` folder\n",
    "\n",
    "!gsutil -m cp -r \"gs://dx-scin-public-data/dataset\"  ."
   ]
  },
  {
   "cell_type": "code",
   "execution_count": 5,
   "metadata": {},
   "outputs": [],
   "source": [
    "cases_csv = './dataset/scin_cases.csv' # case metadata\n",
    "labels_csv = './dataset/scin_labels.csv' # label metadata\n",
    "images_dir = './dataset/images/'\n",
    "\n",
    "if USE_STORAGE_API:\n",
    "    import io\n",
    "    # replace the path with the bucket paths (and remove the ./ prefixes)\n",
    "    cases_csv = io.BytesIO(gcs_bucket.blob(cases_csv[2:]).download_as_string())\n",
    "    labels_csv = io.BytesIO(gcs_bucket.blob(labels_csv[2:]).download_as_string())"
   ]
  },
  {
   "cell_type": "markdown",
   "metadata": {},
   "source": [
    "#### Get the image-label mapping"
   ]
  },
  {
   "cell_type": "code",
   "execution_count": 21,
   "metadata": {},
   "outputs": [
    {
     "data": {
      "text/html": [
       "<div>\n",
       "<style scoped>\n",
       "    .dataframe tbody tr th:only-of-type {\n",
       "        vertical-align: middle;\n",
       "    }\n",
       "\n",
       "    .dataframe tbody tr th {\n",
       "        vertical-align: top;\n",
       "    }\n",
       "\n",
       "    .dataframe thead th {\n",
       "        text-align: right;\n",
       "    }\n",
       "</style>\n",
       "<table border=\"1\" class=\"dataframe\">\n",
       "  <thead>\n",
       "    <tr style=\"text-align: right;\">\n",
       "      <th></th>\n",
       "      <th>filename</th>\n",
       "      <th>label</th>\n",
       "    </tr>\n",
       "  </thead>\n",
       "  <tbody>\n",
       "    <tr>\n",
       "      <th>0</th>\n",
       "      <td>dataset/images/-3205742176803893704.png</td>\n",
       "      <td>{'Inflicted skin lesions': 0.41, 'Eczema': 0.4...</td>\n",
       "    </tr>\n",
       "    <tr>\n",
       "      <th>1</th>\n",
       "      <td>dataset/images/-4762289084741430925.png</td>\n",
       "      <td>{'Prurigo nodularis': 0.41, 'SCC/SCCIS': 0.41,...</td>\n",
       "    </tr>\n",
       "    <tr>\n",
       "      <th>2</th>\n",
       "      <td>dataset/images/-4027806997035329030.png</td>\n",
       "      <td>{'Impetigo': 0.55, 'Herpes Zoster': 0.23, 'Bul...</td>\n",
       "    </tr>\n",
       "    <tr>\n",
       "      <th>3</th>\n",
       "      <td>dataset/images/-5332065579713135540.png</td>\n",
       "      <td>{}</td>\n",
       "    </tr>\n",
       "    <tr>\n",
       "      <th>4</th>\n",
       "      <td>dataset/images/-3799298995660217860.png</td>\n",
       "      <td>{'Lichen planus/lichenoid eruption': 0.33, 'Fo...</td>\n",
       "    </tr>\n",
       "    <tr>\n",
       "      <th>...</th>\n",
       "      <td>...</td>\n",
       "      <td>...</td>\n",
       "    </tr>\n",
       "    <tr>\n",
       "      <th>5028</th>\n",
       "      <td>dataset/images/32575980331712012.png</td>\n",
       "      <td>{'CD - Contact dermatitis': 0.33, 'Allergic Co...</td>\n",
       "    </tr>\n",
       "    <tr>\n",
       "      <th>5029</th>\n",
       "      <td>dataset/images/-5315065439551573643.png</td>\n",
       "      <td>{}</td>\n",
       "    </tr>\n",
       "    <tr>\n",
       "      <th>5030</th>\n",
       "      <td>dataset/images/-4723634841049886674.png</td>\n",
       "      <td>{'Impetigo': 0.5, 'Foreign body': 0.5}</td>\n",
       "    </tr>\n",
       "    <tr>\n",
       "      <th>5031</th>\n",
       "      <td>dataset/images/-3758258982362095839.png</td>\n",
       "      <td>{'Erythema gyratum repens': 0.33, 'Seborrheic ...</td>\n",
       "    </tr>\n",
       "    <tr>\n",
       "      <th>5032</th>\n",
       "      <td>dataset/images/8953015289412905592.png</td>\n",
       "      <td>{'Folliculitis': 1.0}</td>\n",
       "    </tr>\n",
       "  </tbody>\n",
       "</table>\n",
       "<p>5033 rows × 2 columns</p>\n",
       "</div>"
      ],
      "text/plain": [
       "                                     filename  \\\n",
       "0     dataset/images/-3205742176803893704.png   \n",
       "1     dataset/images/-4762289084741430925.png   \n",
       "2     dataset/images/-4027806997035329030.png   \n",
       "3     dataset/images/-5332065579713135540.png   \n",
       "4     dataset/images/-3799298995660217860.png   \n",
       "...                                       ...   \n",
       "5028     dataset/images/32575980331712012.png   \n",
       "5029  dataset/images/-5315065439551573643.png   \n",
       "5030  dataset/images/-4723634841049886674.png   \n",
       "5031  dataset/images/-3758258982362095839.png   \n",
       "5032   dataset/images/8953015289412905592.png   \n",
       "\n",
       "                                                  label  \n",
       "0     {'Inflicted skin lesions': 0.41, 'Eczema': 0.4...  \n",
       "1     {'Prurigo nodularis': 0.41, 'SCC/SCCIS': 0.41,...  \n",
       "2     {'Impetigo': 0.55, 'Herpes Zoster': 0.23, 'Bul...  \n",
       "3                                                    {}  \n",
       "4     {'Lichen planus/lichenoid eruption': 0.33, 'Fo...  \n",
       "...                                                 ...  \n",
       "5028  {'CD - Contact dermatitis': 0.33, 'Allergic Co...  \n",
       "5029                                                 {}  \n",
       "5030             {'Impetigo': 0.5, 'Foreign body': 0.5}  \n",
       "5031  {'Erythema gyratum repens': 0.33, 'Seborrheic ...  \n",
       "5032                              {'Folliculitis': 1.0}  \n",
       "\n",
       "[5033 rows x 2 columns]"
      ]
     },
     "execution_count": 21,
     "metadata": {},
     "output_type": "execute_result"
    }
   ],
   "source": [
    "# Read the csv\n",
    "cases_df = pd.read_csv(cases_csv, dtype={'case_id': str})\n",
    "labels_df = pd.read_csv(labels_csv, dtype={'case_id': str})\n",
    "\n",
    "# For the sake of simplicity we only keep one image per case\n",
    "df = pd.merge(cases_df, labels_df, on='case_id')[['image_1_path', 'weighted_skin_condition_label']]\n",
    "df.columns = ['filename', 'label']\n",
    "df"
   ]
  },
  {
   "cell_type": "markdown",
   "metadata": {},
   "source": [
    "### Preprocess the data"
   ]
  },
  {
   "cell_type": "code",
   "execution_count": 22,
   "metadata": {},
   "outputs": [],
   "source": [
    "# DISCO currently doesn't support multi-label classification (i.e. a variable number of labels per one image)\n",
    "# So we will only keep one label per image\n",
    "\n",
    "# Filter out empty labels and keep the label with the greatest weight\n",
    "def getFirstLabel(label: str):\n",
    "    if label.startswith('{'):\n",
    "        label_dict = eval(label)\n",
    "        return max(label_dict, key=label_dict.get)\n",
    "    else:\n",
    "        return label\n",
    "\n",
    "df = df.query(\"label != '{}'\")\n",
    "df.loc[:, 'label'] = df['label'].apply(getFirstLabel)"
   ]
  },
  {
   "cell_type": "code",
   "execution_count": 23,
   "metadata": {},
   "outputs": [
    {
     "data": {
      "text/plain": [
       "label\n",
       "Eczema                         488\n",
       "Allergic Contact Dermatitis    270\n",
       "Urticaria                      214\n",
       "Insect Bite                    185\n",
       "Folliculitis                   142\n",
       "                              ... \n",
       "Acne keloidalis                  1\n",
       "Eruptive xanthoma                1\n",
       "Localized skin infection         1\n",
       "Keratolysis exfoliativa          1\n",
       "Chicken pox exanthem             1\n",
       "Name: count, Length: 211, dtype: int64"
      ]
     },
     "execution_count": 23,
     "metadata": {},
     "output_type": "execute_result"
    }
   ],
   "source": [
    "df.label.value_counts()"
   ]
  },
  {
   "cell_type": "code",
   "execution_count": 24,
   "metadata": {},
   "outputs": [
    {
     "data": {
      "text/plain": [
       "['Eczema', 'Allergic Contact Dermatitis', 'Urticaria']"
      ]
     },
     "execution_count": 24,
     "metadata": {},
     "output_type": "execute_result"
    }
   ],
   "source": [
    "# We will only keep the most frequent labels for the classification task\n",
    "label_count = df.label.value_counts()\n",
    "label_subset = label_count[label_count > 200]\n",
    "label_subset = list(label_subset.index)\n",
    "label_subset"
   ]
  },
  {
   "cell_type": "code",
   "execution_count": 25,
   "metadata": {},
   "outputs": [
    {
     "data": {
      "text/html": [
       "<div>\n",
       "<style scoped>\n",
       "    .dataframe tbody tr th:only-of-type {\n",
       "        vertical-align: middle;\n",
       "    }\n",
       "\n",
       "    .dataframe tbody tr th {\n",
       "        vertical-align: top;\n",
       "    }\n",
       "\n",
       "    .dataframe thead th {\n",
       "        text-align: right;\n",
       "    }\n",
       "</style>\n",
       "<table border=\"1\" class=\"dataframe\">\n",
       "  <thead>\n",
       "    <tr style=\"text-align: right;\">\n",
       "      <th></th>\n",
       "      <th>filename</th>\n",
       "      <th>label</th>\n",
       "    </tr>\n",
       "  </thead>\n",
       "  <tbody>\n",
       "    <tr>\n",
       "      <th>6</th>\n",
       "      <td>dataset/images/-6942912841265248602.png</td>\n",
       "      <td>Urticaria</td>\n",
       "    </tr>\n",
       "    <tr>\n",
       "      <th>8</th>\n",
       "      <td>dataset/images/-217828380359571871.png</td>\n",
       "      <td>Eczema</td>\n",
       "    </tr>\n",
       "    <tr>\n",
       "      <th>10</th>\n",
       "      <td>dataset/images/-3712452163219577722.png</td>\n",
       "      <td>Eczema</td>\n",
       "    </tr>\n",
       "    <tr>\n",
       "      <th>11</th>\n",
       "      <td>dataset/images/-1677898261371801194.png</td>\n",
       "      <td>Urticaria</td>\n",
       "    </tr>\n",
       "    <tr>\n",
       "      <th>21</th>\n",
       "      <td>dataset/images/7624703560142571231.png</td>\n",
       "      <td>Urticaria</td>\n",
       "    </tr>\n",
       "    <tr>\n",
       "      <th>...</th>\n",
       "      <td>...</td>\n",
       "      <td>...</td>\n",
       "    </tr>\n",
       "    <tr>\n",
       "      <th>5006</th>\n",
       "      <td>dataset/images/-2443949714670739112.png</td>\n",
       "      <td>Urticaria</td>\n",
       "    </tr>\n",
       "    <tr>\n",
       "      <th>5007</th>\n",
       "      <td>dataset/images/-1147438805108165437.png</td>\n",
       "      <td>Urticaria</td>\n",
       "    </tr>\n",
       "    <tr>\n",
       "      <th>5014</th>\n",
       "      <td>dataset/images/-683645753310790631.png</td>\n",
       "      <td>Allergic Contact Dermatitis</td>\n",
       "    </tr>\n",
       "    <tr>\n",
       "      <th>5021</th>\n",
       "      <td>dataset/images/-4308398826912860778.png</td>\n",
       "      <td>Eczema</td>\n",
       "    </tr>\n",
       "    <tr>\n",
       "      <th>5028</th>\n",
       "      <td>dataset/images/32575980331712012.png</td>\n",
       "      <td>Allergic Contact Dermatitis</td>\n",
       "    </tr>\n",
       "  </tbody>\n",
       "</table>\n",
       "<p>972 rows × 2 columns</p>\n",
       "</div>"
      ],
      "text/plain": [
       "                                     filename                        label\n",
       "6     dataset/images/-6942912841265248602.png                    Urticaria\n",
       "8      dataset/images/-217828380359571871.png                       Eczema\n",
       "10    dataset/images/-3712452163219577722.png                       Eczema\n",
       "11    dataset/images/-1677898261371801194.png                    Urticaria\n",
       "21     dataset/images/7624703560142571231.png                    Urticaria\n",
       "...                                       ...                          ...\n",
       "5006  dataset/images/-2443949714670739112.png                    Urticaria\n",
       "5007  dataset/images/-1147438805108165437.png                    Urticaria\n",
       "5014   dataset/images/-683645753310790631.png  Allergic Contact Dermatitis\n",
       "5021  dataset/images/-4308398826912860778.png                       Eczema\n",
       "5028     dataset/images/32575980331712012.png  Allergic Contact Dermatitis\n",
       "\n",
       "[972 rows x 2 columns]"
      ]
     },
     "execution_count": 25,
     "metadata": {},
     "output_type": "execute_result"
    }
   ],
   "source": [
    "# Only keep images with labels in the subset\n",
    "df = df.query('label in @label_subset')\n",
    "df"
   ]
  },
  {
   "cell_type": "markdown",
   "metadata": {},
   "source": [
    "### Create the sample dataset\n",
    "\n",
    "DISCO offers two ways of connecting data:\n",
    "1. Selecting images class by class\n",
    "2. Selecting a CSV which maps image filenames to labels and then connecting all the images at once. The CSV should have the exact header 'filename, label' and image filenames should not include file extensions.\n",
    "\n",
    "Here we will go with the second option as it is more practical as the number of category grows. This notebook can easily be adapted to save and split data into different folders according to the label."
   ]
  },
  {
   "cell_type": "code",
   "execution_count": 30,
   "metadata": {},
   "outputs": [],
   "source": [
    "N_SAMPLES = 400\n",
    "sample_df = df.sample(N_SAMPLES)"
   ]
  },
  {
   "cell_type": "code",
   "execution_count": 33,
   "metadata": {},
   "outputs": [
    {
     "name": "stderr",
     "output_type": "stream",
     "text": [
      "100%|██████████| 400/400 [00:00<00:00, 499.72it/s]\n"
     ]
    }
   ],
   "source": [
    "output_folder = './sample/'\n",
    "output_image_folder = output_folder + 'images'\n",
    "os.makedirs(output_image_folder)\n",
    "\n",
    "sample_labels = []\n",
    "for i, row in tqdm(sample_df.iterrows(), total=sample_df.shape[0]):\n",
    "    image_path = row['filename']\n",
    "    new_image_name = image_path.split('/')[-1]\n",
    "    image_output_path = os.path.join(output_image_folder, new_image_name)\n",
    "    image_without_ext = new_image_name[:-4]\n",
    "    sample_labels.append([image_without_ext, row['label']])\n",
    "\n",
    "    if USE_STORAGE_API:\n",
    "        gcs_bucket.blob(image_path).download_to_filename(image_output_path)\n",
    "    else:\n",
    "        shutil.copy('./' + image_path, image_output_path)"
   ]
  },
  {
   "cell_type": "code",
   "execution_count": 34,
   "metadata": {},
   "outputs": [
    {
     "data": {
      "text/html": [
       "<div>\n",
       "<style scoped>\n",
       "    .dataframe tbody tr th:only-of-type {\n",
       "        vertical-align: middle;\n",
       "    }\n",
       "\n",
       "    .dataframe tbody tr th {\n",
       "        vertical-align: top;\n",
       "    }\n",
       "\n",
       "    .dataframe thead th {\n",
       "        text-align: right;\n",
       "    }\n",
       "</style>\n",
       "<table border=\"1\" class=\"dataframe\">\n",
       "  <thead>\n",
       "    <tr style=\"text-align: right;\">\n",
       "      <th></th>\n",
       "      <th>filename</th>\n",
       "      <th>label</th>\n",
       "    </tr>\n",
       "  </thead>\n",
       "  <tbody>\n",
       "    <tr>\n",
       "      <th>0</th>\n",
       "      <td>-2850393001491389427</td>\n",
       "      <td>Urticaria</td>\n",
       "    </tr>\n",
       "    <tr>\n",
       "      <th>1</th>\n",
       "      <td>-6272108417182441416</td>\n",
       "      <td>Allergic Contact Dermatitis</td>\n",
       "    </tr>\n",
       "    <tr>\n",
       "      <th>2</th>\n",
       "      <td>-1495727048511165464</td>\n",
       "      <td>Eczema</td>\n",
       "    </tr>\n",
       "    <tr>\n",
       "      <th>3</th>\n",
       "      <td>-8297415963972830482</td>\n",
       "      <td>Urticaria</td>\n",
       "    </tr>\n",
       "    <tr>\n",
       "      <th>4</th>\n",
       "      <td>-4982141201108309967</td>\n",
       "      <td>Urticaria</td>\n",
       "    </tr>\n",
       "    <tr>\n",
       "      <th>...</th>\n",
       "      <td>...</td>\n",
       "      <td>...</td>\n",
       "    </tr>\n",
       "    <tr>\n",
       "      <th>395</th>\n",
       "      <td>-729778047815019786</td>\n",
       "      <td>Eczema</td>\n",
       "    </tr>\n",
       "    <tr>\n",
       "      <th>396</th>\n",
       "      <td>-6438545414301250763</td>\n",
       "      <td>Eczema</td>\n",
       "    </tr>\n",
       "    <tr>\n",
       "      <th>397</th>\n",
       "      <td>5717632452093413738</td>\n",
       "      <td>Eczema</td>\n",
       "    </tr>\n",
       "    <tr>\n",
       "      <th>398</th>\n",
       "      <td>123261771205042552</td>\n",
       "      <td>Eczema</td>\n",
       "    </tr>\n",
       "    <tr>\n",
       "      <th>399</th>\n",
       "      <td>-5374486630107526497</td>\n",
       "      <td>Eczema</td>\n",
       "    </tr>\n",
       "  </tbody>\n",
       "</table>\n",
       "<p>400 rows × 2 columns</p>\n",
       "</div>"
      ],
      "text/plain": [
       "                 filename                        label\n",
       "0    -2850393001491389427                    Urticaria\n",
       "1    -6272108417182441416  Allergic Contact Dermatitis\n",
       "2    -1495727048511165464                       Eczema\n",
       "3    -8297415963972830482                    Urticaria\n",
       "4    -4982141201108309967                    Urticaria\n",
       "..                    ...                          ...\n",
       "395   -729778047815019786                       Eczema\n",
       "396  -6438545414301250763                       Eczema\n",
       "397   5717632452093413738                       Eczema\n",
       "398    123261771205042552                       Eczema\n",
       "399  -5374486630107526497                       Eczema\n",
       "\n",
       "[400 rows x 2 columns]"
      ]
     },
     "execution_count": 34,
     "metadata": {},
     "output_type": "execute_result"
    }
   ],
   "source": [
    "local_mapping = pd.DataFrame(sample_labels, columns=['filename', 'label'])\n",
    "local_mapping"
   ]
  },
  {
   "cell_type": "code",
   "execution_count": 35,
   "metadata": {},
   "outputs": [],
   "source": [
    "# DISCO expects a CSV file with\n",
    "local_mapping.to_csv(output_folder + 'labels.csv', index=False, header=True)"
   ]
  },
  {
   "cell_type": "code",
   "execution_count": null,
   "metadata": {},
   "outputs": [],
   "source": []
  }
 ],
 "metadata": {
  "kernelspec": {
   "display_name": "venv",
   "language": "python",
   "name": "python3"
  },
  "language_info": {
   "codemirror_mode": {
    "name": "ipython",
    "version": 3
   },
   "file_extension": ".py",
   "mimetype": "text/x-python",
   "name": "python",
   "nbconvert_exporter": "python",
   "pygments_lexer": "ipython3",
   "version": "3.11.7"
  }
 },
 "nbformat": 4,
 "nbformat_minor": 2
}
